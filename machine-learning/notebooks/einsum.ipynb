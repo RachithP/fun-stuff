{
 "cells": [
  {
   "cell_type": "code",
   "execution_count": 1,
   "id": "707d00ad",
   "metadata": {},
   "outputs": [],
   "source": [
    "import numpy as np"
   ]
  },
  {
   "cell_type": "code",
   "execution_count": 2,
   "id": "736d98eb",
   "metadata": {},
   "outputs": [],
   "source": [
    "A = np.array([0, 1, 2])\n",
    "\n",
    "B = np.array([[ 0,  1,  2,  3],\n",
    "              [ 4,  5,  6,  7],\n",
    "              [ 8,  9, 10, 11]])"
   ]
  },
  {
   "cell_type": "code",
   "execution_count": 12,
   "id": "e37dc83b",
   "metadata": {},
   "outputs": [
    {
     "name": "stdout",
     "output_type": "stream",
     "text": [
      "A.shape=(3,)\n",
      "A[:,np.newaxis].shape=(3, 1)\n",
      "A[np.newaxis, :].shape=(1, 3)\n"
     ]
    }
   ],
   "source": [
    "print(f\"{A.shape=}\")\n",
    "print(f\"{A[:,np.newaxis].shape=}\")\n",
    "print(f\"{A[np.newaxis, :].shape=}\")"
   ]
  },
  {
   "cell_type": "code",
   "execution_count": 6,
   "id": "33fe15e9",
   "metadata": {},
   "outputs": [
    {
     "data": {
      "text/plain": [
       "array([[ 0,  0,  0,  0],\n",
       "       [ 4,  5,  6,  7],\n",
       "       [16, 18, 20, 22]])"
      ]
     },
     "execution_count": 6,
     "metadata": {},
     "output_type": "execute_result"
    }
   ],
   "source": [
    "A[:,np.newaxis] * B"
   ]
  },
  {
   "cell_type": "code",
   "execution_count": 7,
   "id": "8c9b35a9",
   "metadata": {},
   "outputs": [
    {
     "data": {
      "text/plain": [
       "array([ 0, 22, 76])"
      ]
     },
     "execution_count": 7,
     "metadata": {},
     "output_type": "execute_result"
    }
   ],
   "source": [
    "(A[:,np.newaxis] * B).sum(axis=1)"
   ]
  },
  {
   "cell_type": "code",
   "execution_count": 17,
   "id": "c6638380",
   "metadata": {},
   "outputs": [
    {
     "data": {
      "text/plain": [
       "array([[ 0,  0,  0,  0],\n",
       "       [ 4,  5,  6,  7],\n",
       "       [16, 18, 20, 22]])"
      ]
     },
     "execution_count": 17,
     "metadata": {},
     "output_type": "execute_result"
    }
   ],
   "source": [
    "np.einsum('i,ij->ij', A,B)"
   ]
  },
  {
   "cell_type": "code",
   "execution_count": 18,
   "id": "883150e3",
   "metadata": {},
   "outputs": [],
   "source": [
    "A = np.array([[1, 1, 1],\n",
    "             [2, 2, 2],\n",
    "             [5, 5, 5]])\n",
    "\n",
    "B = np.array([[0, 1, 0],\n",
    "             [1, 1, 0],\n",
    "             [1, 1, 1]])"
   ]
  },
  {
   "cell_type": "code",
   "execution_count": 19,
   "id": "36de4a17",
   "metadata": {},
   "outputs": [
    {
     "data": {
      "text/plain": [
       "array([[0, 1, 0],\n",
       "       [2, 2, 0],\n",
       "       [5, 5, 5]])"
      ]
     },
     "execution_count": 19,
     "metadata": {},
     "output_type": "execute_result"
    }
   ],
   "source": [
    "A*B"
   ]
  },
  {
   "cell_type": "code",
   "execution_count": 20,
   "id": "14c46f66",
   "metadata": {},
   "outputs": [
    {
     "data": {
      "text/plain": [
       "array([ 1,  4, 15])"
      ]
     },
     "execution_count": 20,
     "metadata": {},
     "output_type": "execute_result"
    }
   ],
   "source": [
    "(A*B).sum(axis=1)"
   ]
  },
  {
   "cell_type": "code",
   "execution_count": 21,
   "id": "fa478b79",
   "metadata": {},
   "outputs": [
    {
     "data": {
      "text/plain": [
       "array([7, 8, 5])"
      ]
     },
     "execution_count": 21,
     "metadata": {},
     "output_type": "execute_result"
    }
   ],
   "source": [
    "(A*B).sum(axis=0)"
   ]
  },
  {
   "cell_type": "code",
   "execution_count": 27,
   "id": "02c754dc",
   "metadata": {},
   "outputs": [
    {
     "data": {
      "text/plain": [
       "array([[[0, 1, 0],\n",
       "        [0, 2, 0],\n",
       "        [0, 5, 0]],\n",
       "\n",
       "       [[1, 1, 0],\n",
       "        [2, 2, 0],\n",
       "        [5, 5, 0]],\n",
       "\n",
       "       [[1, 1, 1],\n",
       "        [2, 2, 2],\n",
       "        [5, 5, 5]]])"
      ]
     },
     "execution_count": 27,
     "metadata": {},
     "output_type": "execute_result"
    }
   ],
   "source": [
    "np.einsum('ij,jk->jik', A, B)"
   ]
  },
  {
   "cell_type": "code",
   "execution_count": null,
   "id": "cd76d519",
   "metadata": {},
   "outputs": [],
   "source": []
  }
 ],
 "metadata": {
  "kernelspec": {
   "display_name": "noc",
   "language": "python",
   "name": "python3"
  },
  "language_info": {
   "codemirror_mode": {
    "name": "ipython",
    "version": 3
   },
   "file_extension": ".py",
   "mimetype": "text/x-python",
   "name": "python",
   "nbconvert_exporter": "python",
   "pygments_lexer": "ipython3",
   "version": "3.11.9"
  }
 },
 "nbformat": 4,
 "nbformat_minor": 5
}
