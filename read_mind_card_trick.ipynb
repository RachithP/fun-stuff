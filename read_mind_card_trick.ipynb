{
 "cells": [
  {
   "cell_type": "code",
   "execution_count": 3,
   "id": "f54d08ca",
   "metadata": {},
   "outputs": [
    {
     "name": "stdout",
     "output_type": "stream",
     "text": [
      "Collecting numpy\n",
      "  Downloading numpy-1.25.0-cp39-cp39-win_amd64.whl (15.1 MB)\n",
      "                                              0.0/15.1 MB ? eta -:--:--\n",
      "                                              0.0/15.1 MB ? eta -:--:--\n",
      "                                              0.1/15.1 MB 1.1 MB/s eta 0:00:14\n",
      "                                              0.3/15.1 MB 2.7 MB/s eta 0:00:06\n",
      "     ---                                      1.2/15.1 MB 8.1 MB/s eta 0:00:02\n",
      "     ----                                     1.9/15.1 MB 9.1 MB/s eta 0:00:02\n",
      "     --------                                 3.2/15.1 MB 12.7 MB/s eta 0:00:01\n",
      "     ----------                               3.9/15.1 MB 13.1 MB/s eta 0:00:01\n",
      "     -------------                            5.2/15.1 MB 14.9 MB/s eta 0:00:01\n",
      "     -----------------                        6.5/15.1 MB 16.6 MB/s eta 0:00:01\n",
      "     -------------------                      7.3/15.1 MB 16.7 MB/s eta 0:00:01\n",
      "     ----------------------                   8.4/15.1 MB 17.4 MB/s eta 0:00:01\n",
      "     ------------------------                 9.3/15.1 MB 17.4 MB/s eta 0:00:01\n",
      "     --------------------------              10.2/15.1 MB 17.6 MB/s eta 0:00:01\n",
      "     ----------------------------            11.0/15.1 MB 21.1 MB/s eta 0:00:01\n",
      "     ------------------------------          11.7/15.1 MB 21.1 MB/s eta 0:00:01\n",
      "     --------------------------------        12.7/15.1 MB 20.5 MB/s eta 0:00:01\n",
      "     -----------------------------------     13.8/15.1 MB 20.5 MB/s eta 0:00:01\n",
      "     -------------------------------------   14.3/15.1 MB 20.5 MB/s eta 0:00:01\n",
      "     --------------------------------------  15.1/15.1 MB 20.5 MB/s eta 0:00:01\n",
      "     --------------------------------------- 15.1/15.1 MB 18.7 MB/s eta 0:00:00\n",
      "Installing collected packages: numpy\n",
      "Successfully installed numpy-1.25.0\n"
     ]
    }
   ],
   "source": [
    "# reference - https://www.youtube.com/watch?v=zDHhHPZm2rc\n",
    "!pip install numpy"
   ]
  },
  {
   "cell_type": "code",
   "execution_count": 4,
   "id": "9b806c45",
   "metadata": {},
   "outputs": [],
   "source": [
    "import numpy as np"
   ]
  },
  {
   "cell_type": "code",
   "execution_count": 43,
   "id": "156e05d6",
   "metadata": {},
   "outputs": [
    {
     "name": "stdout",
     "output_type": "stream",
     "text": [
      "There are 52 cards in this deck.\n",
      "The cards are:\n",
      " ['A_C', 'A_D', 'A_H', 'A_S', '2_C', '2_D', '2_H', '2_S', '3_C', '3_D', '3_H', '3_S', '4_C', '4_D', '4_H', '4_S', '5_C', '5_D', '5_H', '5_S', '6_C', '6_D', '6_H', '6_S', '7_C', '7_D', '7_H', '7_S', '8_C', '8_D', '8_H', '8_S', '9_C', '9_D', '9_H', '9_S', '10_C', '10_D', '10_H', '10_S', 'J_C', 'J_D', 'J_H', 'J_S', 'Q_C', 'Q_D', 'Q_H', 'Q_S', 'K_C', 'K_D', 'K_H', 'K_S']\n"
     ]
    }
   ],
   "source": [
    "# create a deck of cards\n",
    "suits = ['C', 'D', 'H', 'S']\n",
    "numbers = ['A', '2', '3', '4', '5', '6', '7', '8', '9', '10', 'J', 'Q', 'K']\n",
    "values = [1, 2, 3, 4, 5, 6, 7, 8, 9, 10, 11, 12, 13]\n",
    "deck_of_cards = [a+'_'+b for a in numbers for b in suits]\n",
    "\n",
    "print(\"There are {} cards in this deck.\".format(len(deck_of_cards)))\n",
    "print(\"The cards are:\\n\", deck_of_cards)"
   ]
  },
  {
   "cell_type": "code",
   "execution_count": 72,
   "id": "06238ad1",
   "metadata": {},
   "outputs": [
    {
     "name": "stdout",
     "output_type": "stream",
     "text": [
      "Input 5 cards from the deck above. Each input is a string.\n",
      "I'll now order the cards from the list ['7_C', 'A_C', 'K_H', '3_D', 'K_S']\n",
      "Card index is 24, and card is 7_C\n",
      "Suit index is 0 and suit is C\n",
      "Number index is 6 and number is 7\n",
      "Card index is 0, and card is A_C\n",
      "Suit index is 0 and suit is C\n",
      "Number index is 0 and number is A\n",
      "Card index is 50, and card is K_H\n",
      "Suit index is 2 and suit is H\n",
      "Number index is 12 and number is K\n",
      "Card index is 9, and card is 3_D\n",
      "Suit index is 1 and suit is D\n",
      "Number index is 2 and number is 3\n",
      "Card index is 51, and card is K_S\n",
      "Suit index is 3 and suit is S\n",
      "Number index is 12 and number is K\n",
      "Suit counts: {'C': 2, 'D': 1, 'H': 1, 'S': 1}\n",
      "Suit in pairs: C\n",
      "First Card is  A_C\n",
      "Hidden Card is  7_C\n",
      "Other Cards are  ['K_H', '3_D', 'K_S']\n",
      "Encoding is  6\n",
      "[(array([0], dtype=uint8), 1), (array([24], dtype=uint8), 2), (array([50], dtype=uint8), 0)]\n"
     ]
    }
   ],
   "source": [
    "def findHiddenCard(suit_inds, number_inds, suit_in_pairs_ind):\n",
    "    \n",
    "    pair_inds = suit_inds == suit_in_pairs_ind\n",
    "    \n",
    "    encode = (values[number_inds[pair_inds][0]] - values[number_inds[pair_inds][1]]) % 13\n",
    "    \n",
    "    if encode > 6:\n",
    "        first_card_ind = card_inds[pair_inds][0]\n",
    "        hidden_card_ind = card_inds[pair_inds][1]\n",
    "        encode = (values[number_inds[pair_inds][1]] - values[number_inds[pair_inds][0]]) % 13\n",
    "    else:\n",
    "        first_card_ind = card_inds[pair_inds][1]\n",
    "        hidden_card_ind = card_inds[pair_inds][0]\n",
    "    \n",
    "    other_card_inds = card_inds[~pair_inds]\n",
    "    \n",
    "    return first_card_ind, hidden_card_ind, other_card_inds, encode\n",
    "\n",
    " \n",
    "def orderCards():\n",
    "    # read inputs\n",
    "    print(\"Input 5 cards from the deck above. Each input is a string.\")\n",
    "#     cards = []    \n",
    "#     for i in range(5):\n",
    "#         cards.append(input(f\"Input card #{i+1}:\"))\n",
    "\n",
    "    cards = ['7_C', 'A_C', 'K_H', '3_D', 'K_S']\n",
    "    \n",
    "    print(\"I'll now order the cards from the list\", cards)\n",
    "    \n",
    "    # TASK #1: Find the suit that is repeated\n",
    "    card_inds = np.empty(shape=(5,1), dtype=np.uint8)\n",
    "    suit_inds = np.empty(shape=(5,1), dtype=np.uint8)\n",
    "    number_inds = np.empty(shape=(5,1), dtype=np.uint8)\n",
    "    suit_count = {'C': 0, 'D': 0, 'H': 0, 'S': 0}\n",
    "    for i in range(5):\n",
    "        ind = deck_of_cards.index(cards[i])\n",
    "        print(f\"Card index is {ind}, and card is {cards[i]}\")\n",
    "        card_inds[i] = ind\n",
    "        print(f\"Suit index is {ind % 4} and suit is {suits[ind % 4]}\")\n",
    "        suit_inds[i] = ind % 4 # remainder\n",
    "        print(f\"Number index is {ind // 4} and number is {numbers[ind // 4]}\")\n",
    "        number_inds[i] = ind // 4 # quotient\n",
    "        suit_count[suits[ind % 4]] += 1\n",
    "        if suit_count[suits[ind % 4]] > 1:\n",
    "            suit_in_pairs_ind = ind % 4\n",
    "    print(\"Suit counts:\", suit_count)\n",
    "    print(\"Suit in pairs:\", suits[suit_in_pairs_ind])\n",
    "    \n",
    "    # TASK #2: Find the first card, hidden card and the encoding number\n",
    "    # card_inds = [24, 0, 50, 9, 51]\n",
    "    # suit_inds = [0, 0, 2, 1, 3]\n",
    "    # number_inds = [6, 0, 12, 2, 12]\n",
    "    # suit_in_pairs_ind = 0\n",
    "    first_card_ind, hidden_card_ind, other_card_inds, encode = findHiddenCard(suit_inds, number_inds, suit_in_pairs_ind)\n",
    "    print(\"First Card is \", deck_of_cards[first_card_ind])\n",
    "    print(\"Hidden Card is \", deck_of_cards[hidden_card_ind])\n",
    "    print(\"Other Cards are \", [deck_of_cards[a] for a in other_card_inds])\n",
    "    print(\"Encoding is \", encode)\n",
    "    \n",
    "    # TASK #3: Decode the encoding and arrange the last 3 cards in order\n",
    "    if encode == 1:\n",
    "        encode_inds = np.array([0, 1, 2], dtype=np.uint8)\n",
    "    elif encode == 2:\n",
    "        encode_inds = np.array([0, 2, 1], dtype=np.uint8)\n",
    "    elif encode == 3:\n",
    "        encode_inds = np.array([1, 0, 2], dtype=np.uint8)\n",
    "    elif encode == 4:\n",
    "        encode_inds = np.array([1, 2, 0], dtype=np.uint8)\n",
    "    elif encode == 5:\n",
    "        encode_inds = np.array([2, 0, 1], dtype=np.uint8)\n",
    "    elif encode == 6:\n",
    "        encode_inds = np.array([2, 1, 0], dtype=np.uint8)\n",
    "    \n",
    "    \n",
    "    \n",
    "\n",
    "    \n",
    "    \n",
    "orderCards()"
   ]
  },
  {
   "cell_type": "code",
   "execution_count": 57,
   "id": "8147a1da",
   "metadata": {},
   "outputs": [
    {
     "data": {
      "text/plain": [
       "7"
      ]
     },
     "execution_count": 57,
     "metadata": {},
     "output_type": "execute_result"
    }
   ],
   "source": [
    "-6%13"
   ]
  },
  {
   "cell_type": "code",
   "execution_count": null,
   "id": "58983413",
   "metadata": {},
   "outputs": [],
   "source": []
  }
 ],
 "metadata": {
  "kernelspec": {
   "display_name": "Python 3 (ipykernel)",
   "language": "python",
   "name": "python3"
  },
  "language_info": {
   "codemirror_mode": {
    "name": "ipython",
    "version": 3
   },
   "file_extension": ".py",
   "mimetype": "text/x-python",
   "name": "python",
   "nbconvert_exporter": "python",
   "pygments_lexer": "ipython3",
   "version": "3.9.17"
  }
 },
 "nbformat": 4,
 "nbformat_minor": 5
}
